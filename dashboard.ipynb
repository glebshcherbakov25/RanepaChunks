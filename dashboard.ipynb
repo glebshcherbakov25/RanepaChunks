{
 "cells": [
  {
   "cell_type": "markdown",
   "metadata": {},
   "source": [
    "## Trigger Warning: мы использовали смайлики специально - для красоты\n"
   ]
  },
  {
   "cell_type": "code",
   "execution_count": 6,
   "metadata": {
    "colab": {
     "base_uri": "https://localhost:8080/"
    },
    "id": "GjsRNhlzdfgg",
    "outputId": "938ff75a-6c6e-43b6-f78f-1cf3b4c3ceeb"
   },
   "outputs": [],
   "source": [
    "import streamlit as st\n",
    "import plotly.express as px\n",
    "import pandas as pd\n",
    "import os\n",
    "import warnings\n",
    "warnings.filterwarnings('ignore')\n",
    "import chardet"
   ]
  },
  {
   "cell_type": "code",
   "execution_count": 8,
   "metadata": {
    "colab": {
     "base_uri": "https://localhost:8080/"
    },
    "id": "RCZLvtTkd44p",
    "outputId": "b25a618e-8245-483a-995c-ec88bbf43cfe"
   },
   "outputs": [],
   "source": [
    "st.set_page_config(page_title = '📚 Дашборд нормативных документов РАНХиГС')"
   ]
  },
  {
   "cell_type": "markdown",
   "metadata": {},
   "source": [
    "### Определяем, в какой кодировке сохранён CSV-файл, с помощью chardet, и уже с ней читаем данные в таблицу. Так меньше шансов напороться на кракозябры."
   ]
  },
  {
   "cell_type": "code",
   "execution_count": 10,
   "metadata": {
    "colab": {
     "base_uri": "https://localhost:8080/"
    },
    "id": "2I58EXltotgI",
    "outputId": "1000e478-2001-47c4-e416-650b1e407235"
   },
   "outputs": [],
   "source": [
    "with open('ranepa_semantic_chunks.csv', 'rb') as f:\n",
    "    result = chardet.detect(f.read())\n",
    "    encoding = result['encoding']\n",
    "    \n",
    "df = pd.read_csv(\"ranepa_semantic_chunks.csv\", sep = ';', encoding=encoding)"
   ]
  },
  {
   "cell_type": "markdown",
   "metadata": {},
   "source": [
    "### Добавляем заголовок дашборда через Streamlit. Тут название проекта мы оформили со смайликами - чтобы было красиво.\n"
   ]
  },
  {
   "cell_type": "code",
   "execution_count": 12,
   "metadata": {},
   "outputs": [
    {
     "name": "stderr",
     "output_type": "stream",
     "text": [
      "2025-06-01 18:51:01.227 \n",
      "  \u001b[33m\u001b[1mWarning:\u001b[0m to view this Streamlit app on a browser, run it with the following\n",
      "  command:\n",
      "\n",
      "    streamlit run /opt/anaconda3/lib/python3.12/site-packages/ipykernel_launcher.py [ARGUMENTS]\n"
     ]
    },
    {
     "data": {
      "text/plain": [
       "DeltaGenerator()"
      ]
     },
     "execution_count": 12,
     "metadata": {},
     "output_type": "execute_result"
    }
   ],
   "source": [
    "st.title(\"📚 Дашборд нормативных документов РАНХиГС\")"
   ]
  },
  {
   "cell_type": "markdown",
   "metadata": {},
   "source": [
    "### Создаём сайдбар с заголовком и фильтром по типу документа. Это для того, чтобы можно было выбирать, что показать, а данные автоматически подстраивались под выбор."
   ]
  },
  {
   "cell_type": "code",
   "execution_count": 14,
   "metadata": {},
   "outputs": [],
   "source": [
    "st.sidebar.header(\"🔍 Фильтрация\")\n",
    "doc_types = df['title'].dropna().unique()\n",
    "selected_type = st.sidebar.multiselect(\"Тип документа\", doc_types, default=doc_types)\n",
    "\n",
    "filtered_df = df[df['doc_type'].isin(selected_type)]"
   ]
  },
  {
   "cell_type": "markdown",
   "metadata": {},
   "source": [
    "### Показываем: сколько всего документов, чанков и разных типов документов. Для красоты размещаем их в три колонки. "
   ]
  },
  {
   "cell_type": "code",
   "execution_count": 16,
   "metadata": {},
   "outputs": [
    {
     "data": {
      "text/plain": [
       "DeltaGenerator()"
      ]
     },
     "execution_count": 16,
     "metadata": {},
     "output_type": "execute_result"
    }
   ],
   "source": [
    "col1, col2, col3 = st.columns(3)\n",
    "col1.metric(\"📄 Документов\", df['doc_id'].nunique())\n",
    "col2.metric(\"🔹 Чанков\", len(df))\n",
    "col3.metric(\"📑 Уникальных типов\", df['title'].nunique())\n",
    "\n",
    "st.markdown(\"---\")"
   ]
  },
  {
   "cell_type": "markdown",
   "metadata": {},
   "source": [
    "### Выводим таблицу с первыми 20 чанками. Показываем основные столбцы и таблицу."
   ]
  },
  {
   "cell_type": "code",
   "execution_count": 18,
   "metadata": {},
   "outputs": [
    {
     "data": {
      "text/plain": [
       "DeltaGenerator()"
      ]
     },
     "execution_count": 18,
     "metadata": {},
     "output_type": "execute_result"
    }
   ],
   "source": [
    "st.subheader(\" Просмотр чанков\")\n",
    "st.dataframe(filtered_df[['doc_id', 'chunk_id', 'title', 'text']].head(20), use_container_width=True)"
   ]
  },
  {
   "cell_type": "markdown",
   "metadata": {},
   "source": [
    "### Строим график - показываем, сколько чанков приходится на каждый тип документа. Данные сначала сортируем по убыванию."
   ]
  },
  {
   "cell_type": "code",
   "execution_count": 20,
   "metadata": {},
   "outputs": [
    {
     "data": {
      "text/plain": [
       "DeltaGenerator()"
      ]
     },
     "execution_count": 20,
     "metadata": {},
     "output_type": "execute_result"
    }
   ],
   "source": [
    "st.subheader(\"📊 Распределение чанков по документам\")\n",
    "chart_data = df['title'].value_counts().sort_values(ascending=False)\n",
    "st.bar_chart(chart_data)"
   ]
  },
  {
   "cell_type": "markdown",
   "metadata": {},
   "source": [
    "### Считаем длину каждого чанка и строим график, чтобы увидеть, как они распределяются по размеру."
   ]
  },
  {
   "cell_type": "code",
   "execution_count": 22,
   "metadata": {},
   "outputs": [
    {
     "data": {
      "text/plain": [
       "DeltaGenerator()"
      ]
     },
     "execution_count": 22,
     "metadata": {},
     "output_type": "execute_result"
    }
   ],
   "source": [
    "st.subheader(\"✂️ Распределение длины чанков\")\n",
    "df['chunk_length'] = df['text'].astype(str).apply(len)\n",
    "st.line_chart(df['chunk_length'])"
   ]
  },
  {
   "cell_type": "markdown",
   "metadata": {},
   "source": [
    "### Добавляем поиск по тексту чанков, учитывая регистр и пропуски, чтобы поиск работал так, как нужно."
   ]
  },
  {
   "cell_type": "code",
   "execution_count": 24,
   "metadata": {},
   "outputs": [
    {
     "name": "stderr",
     "output_type": "stream",
     "text": [
      "2025-06-01 18:51:05.509 Session state does not function when running a script without `streamlit run`\n"
     ]
    }
   ],
   "source": [
    "#Поиск по тексту\n",
    "st.subheader(\"🔎 Поиск по ключевому слову\")\n",
    "query = st.text_input(\"Введите слово или фразу\")\n",
    "if query:\n",
    "    results = df[df['text'].str.contains(query, case=False, na=False)]\n",
    "    st.write(f\"Найдено {len(results)} фрагментов:\")\n",
    "    st.dataframe(results[['doc_id', 'chunk_id', 'title', 'text']], use_container_width=True)"
   ]
  }
 ],
 "metadata": {
  "colab": {
   "provenance": []
  },
  "kernelspec": {
   "display_name": "Python [conda env:base] *",
   "language": "python",
   "name": "conda-base-py"
  },
  "language_info": {
   "codemirror_mode": {
    "name": "ipython",
    "version": 3
   },
   "file_extension": ".py",
   "mimetype": "text/x-python",
   "name": "python",
   "nbconvert_exporter": "python",
   "pygments_lexer": "ipython3",
   "version": "3.12.7"
  }
 },
 "nbformat": 4,
 "nbformat_minor": 4
}
